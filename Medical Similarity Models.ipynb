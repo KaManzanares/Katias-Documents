{
 "cells": [
  {
   "cell_type": "markdown",
   "id": "9e4c82e1-4726-426c-a136-29792adcdf7e",
   "metadata": {},
   "source": [
    "# Find similar Columns"
   ]
  },
  {
   "cell_type": "markdown",
   "id": "7cf67126-4251-47af-8faa-4fa671f05be3",
   "metadata": {},
   "source": [
    "## Analize Similarity using pretrained BERT-Model"
   ]
  },
  {
   "cell_type": "code",
   "execution_count": 103,
   "id": "ca8e5e10-858e-46b8-ad05-66b01290a7eb",
   "metadata": {},
   "outputs": [
    {
     "name": "stdout",
     "output_type": "stream",
     "text": [
      "Similarity between 'chemo_therapy_status' and 'new_adjuvant_status': 0.3512\n"
     ]
    }
   ],
   "source": [
    "from sentence_transformers import SentenceTransformer, util\n",
    "\n",
    "model = SentenceTransformer('all-MiniLM-L6-v2')\n",
    "\n",
    "# Define medical terms\n",
    "term1 = \"chemo_therapy_status\"\n",
    "term2 = \"new_adjuvant_status\"\n",
    "\n",
    "# Convert terms into embeddings\n",
    "embedding1 = model.encode(term1, convert_to_tensor=True)\n",
    "embedding2 = model.encode(term2, convert_to_tensor=True)\n",
    "\n",
    "# Calculate cosine similarity\n",
    "similarity = util.pytorch_cos_sim(embedding1, embedding2).item()\n",
    "\n",
    "# Output the similarity score\n",
    "print(f\"Similarity between '{term1}' and '{term2}': {similarity:.4f}\")"
   ]
  },
  {
   "cell_type": "markdown",
   "id": "f5369b7c-cc4b-4b6b-83c1-14e840f31873",
   "metadata": {},
   "source": [
    "## Analizing similarity using PubMedBERT\n",
    "PubMedBERT, a BERT model trained on biomedical text"
   ]
  },
  {
   "cell_type": "markdown",
   "id": "094ef939-e58f-4ed0-9546-a20924e0c406",
   "metadata": {},
   "source": [
    "### Importing and Loading Models"
   ]
  },
  {
   "cell_type": "code",
   "execution_count": 104,
   "id": "56473938-ad97-4704-936e-4845f84d61bf",
   "metadata": {},
   "outputs": [],
   "source": [
    "#Import Libraries\n",
    "from transformers import AutoTokenizer, AutoModel #AutoTokenizer Converts text into numbers that the model can understand and AutoModel Loads the pre-trained PubMedBERT model.\n",
    "import torch #torch is a library for tensor operations (used for machine learning)\n",
    "from sklearn.metrics.pairwise import cosine_similarity\n",
    "\n",
    "# Load PubMedBERT tokenizer and model\n",
    "tokenizer = AutoTokenizer.from_pretrained('microsoft/BiomedNLP-PubMedBERT-base-uncased-abstract-fulltext')\n",
    "model = AutoModel.from_pretrained('microsoft/BiomedNLP-PubMedBERT-base-uncased-abstract-fulltext')"
   ]
  },
  {
   "cell_type": "markdown",
   "id": "0201af4f-f95f-4668-ab7d-b2c0eacdc20b",
   "metadata": {},
   "source": [
    "### Creating a Function to Generate Embeddings"
   ]
  },
  {
   "cell_type": "code",
   "execution_count": 106,
   "id": "53eea751-c856-4f7d-8da4-e21fd3e15a6a",
   "metadata": {},
   "outputs": [],
   "source": [
    "def get_embedding(text):\n",
    "    \"\"\"Generate embedding for a single text using PubMedBERT.\"\"\"\n",
    "    with torch.no_grad():  # Disable gradient tracking, the model should not calculate gradients (saves resources since we're not training).\n",
    "\n",
    "        inputs = tokenizer(text, padding=True, truncation=True, return_tensors='pt')\n",
    "        outputs = model(**inputs)\n",
    "        return outputs.last_hidden_state.mean(dim=1).cpu().numpy()"
   ]
  },
  {
   "cell_type": "markdown",
   "id": "04cc497d-6fa5-41b2-8902-7585e539cecb",
   "metadata": {},
   "source": [
    "### Getting Embeddings for Both Terms"
   ]
  },
  {
   "cell_type": "code",
   "execution_count": 107,
   "id": "2818e489-f447-4d40-a965-690639bdfab2",
   "metadata": {},
   "outputs": [
    {
     "name": "stderr",
     "output_type": "stream",
     "text": [
      "Asking to truncate to max_length but no maximum length is provided and the model has no predefined maximum length. Default to no truncation.\n"
     ]
    }
   ],
   "source": [
    "term_1 = \"chemo_therapy_status\"\n",
    "term_2 = \"new_adjuvant_status\"\n",
    "\n",
    "# Get embeddings for each term (their corresponding vectors)\n",
    "embedding1 = get_embedding(term_1)\n",
    "embedding2 = get_embedding(term_2)"
   ]
  },
  {
   "cell_type": "markdown",
   "id": "15e73b8f-790d-4116-974a-7acfab766c50",
   "metadata": {},
   "source": [
    "### Calculate cosine similarity"
   ]
  },
  {
   "cell_type": "code",
   "execution_count": 111,
   "id": "fe3b5389-f6ad-446d-be54-98c7480ca1ea",
   "metadata": {},
   "outputs": [
    {
     "name": "stdout",
     "output_type": "stream",
     "text": [
      "Cosine similarity between 'chemo_therapy_status' and 'new_adjuvant_status': 0.9758\n"
     ]
    }
   ],
   "source": [
    "similarity_score = cosine_similarity(embedding1, embedding2)[0][0]\n",
    "\n",
    "print(f\"Cosine similarity between '{term_1}' and '{term_2}': {similarity_score:.4f}\")"
   ]
  },
  {
   "cell_type": "markdown",
   "id": "dcc2eb6f-eb12-48e5-b16c-4e4256ff06b1",
   "metadata": {},
   "source": [
    "### PROBLEMS \n",
    "Note that the similairty is very high, even when words are not as similar. That's why the numers must be finetuned. "
   ]
  },
  {
   "cell_type": "code",
   "execution_count": 113,
   "id": "becef49c-b1ae-49fd-8419-0d525302389d",
   "metadata": {},
   "outputs": [
    {
     "name": "stdout",
     "output_type": "stream",
     "text": [
      "Cosine similarity between 'chemo_therapy_status' and 'new_adjuvant_status': 0.9760\n"
     ]
    }
   ],
   "source": [
    "term_3 = \"Pacient ID\"\n",
    "term_4 = \"Pacient Name\"\n",
    "\n",
    "embedding1 = get_embedding(term_3)\n",
    "embedding2 = get_embedding(term_4)\n",
    "\n",
    "similarity_score = cosine_similarity(embedding1, embedding2)[0][0]\n",
    "\n",
    "print(f\"Cosine similarity between '{term_1}' and '{term_2}': {similarity_score:.4f}\")"
   ]
  },
  {
   "cell_type": "markdown",
   "id": "a66feffb-3b3b-4acf-a844-0169d42c4d64",
   "metadata": {},
   "source": [
    "### Code to compare column headers"
   ]
  },
  {
   "cell_type": "code",
   "execution_count": null,
   "id": "83d6d449-cbe6-4c07-9c44-409028930fc5",
   "metadata": {},
   "outputs": [],
   "source": [
    "from transformers import AutoTokenizer, AutoModel\n",
    "import torch\n",
    "import pandas as pd\n",
    "from sklearn.metrics.pairwise import cosine_similarity\n",
    "\n",
    "# Load PubMedBERT tokenizer and model once\n",
    "tokenizer = AutoTokenizer.from_pretrained('microsoft/BiomedNLP-PubMedBERT-base-uncased-abstract-fulltext')\n",
    "model = AutoModel.from_pretrained('microsoft/BiomedNLP-PubMedBERT-base-uncased-abstract-fulltext')\n",
    "\n",
    "def get_embeddings(texts):\n",
    "    \"\"\"Generate embeddings for a list of texts in batches using PubMedBERT.\"\"\"\n",
    "    with torch.no_grad():\n",
    "        inputs = tokenizer(texts, padding=True, truncation=True, return_tensors='pt')\n",
    "        outputs = model(**inputs)\n",
    "        return outputs.last_hidden_state.mean(dim=1).cpu().numpy()\n",
    "\n",
    "def compare_headers(file_path, sheet_name=None, reference_list=None, similarity_threshold=0.90):\n",
    "    # Load Excel file and extract headers\n",
    "    df = pd.read_excel(file_path, sheet_name=sheet_name)\n",
    "    headers = df.columns.tolist()\n",
    "\n",
    "    # Generate embeddings for headers\n",
    "    header_embeddings = get_embeddings(headers)\n",
    "    \n",
    "    # If reference list is provided, compare headers with it\n",
    "    if reference_list:\n",
    "        reference_embeddings = get_embeddings(reference_list)\n",
    "        similarities = cosine_similarity(header_embeddings, reference_embeddings)\n",
    "        results = []\n",
    "\n",
    "        for i, header in enumerate(headers):\n",
    "            for j, reference in enumerate(reference_list):\n",
    "                similarity_score = similarities[i][j]\n",
    "                if similarity_score > similarity_threshold:\n",
    "                    results.append([header, reference, similarity_score])\n",
    "    else:\n",
    "        # Compare headers among themselves\n",
    "        similarities = cosine_similarity(header_embeddings)\n",
    "        results = []\n",
    "\n",
    "        for i, header in enumerate(headers):\n",
    "            for j, header_check in enumerate(headers):\n",
    "                if i != j:\n",
    "                    similarity_score = similarities[i][j]\n",
    "                    if similarity_score > similarity_threshold:\n",
    "                        results.append([header, header_check, similarity_score])\n",
    "\n",
    "    # Create DataFrame for results\n",
    "    df_results = pd.DataFrame(results, columns=['Header', 'Matched Header/Reference', 'Cosine Similarity'])\n",
    "    return df_results"
   ]
  },
  {
   "cell_type": "markdown",
   "id": "4d799eed-c6cb-4e54-beef-05903f9d51d3",
   "metadata": {},
   "source": [
    "## Different trained Models"
   ]
  },
  {
   "cell_type": "markdown",
   "id": "ad09e3e1-3fdb-4b28-8c53-ba3c83422869",
   "metadata": {},
   "source": [
    "These models are designed specifically to handle medical and clinical data, making them the best choice for medical text similarity"
   ]
  },
  {
   "cell_type": "markdown",
   "id": "f816d859-b2b2-40e4-8a54-1f68c494c7c4",
   "metadata": {},
   "source": [
    "### PubMedBERT"
   ]
  },
  {
   "cell_type": "markdown",
   "id": "206368e8-1200-4ebd-8b73-87228e9b5a42",
   "metadata": {},
   "source": [
    "This model is specifically trained on PubMed data (abstracts and full-text biomedical literature), making it highly effective for biomedical and medical text mining tasks, including text similarity, named entity recognition (NER), and relation extraction."
   ]
  },
  {
   "cell_type": "code",
   "execution_count": 135,
   "id": "e5688749-208b-4c04-a803-b8cfcf6c08dd",
   "metadata": {},
   "outputs": [],
   "source": [
    "tokenizer = AutoTokenizer.from_pretrained('microsoft/BiomedNLP-PubMedBERT-base-uncased-abstract-fulltext')\n",
    "model = AutoModel.from_pretrained('microsoft/BiomedNLP-PubMedBERT-base-uncased-abstract-fulltext')\n"
   ]
  },
  {
   "cell_type": "code",
   "execution_count": 137,
   "id": "40b3b099-6911-4e2a-82eb-a72b36f77990",
   "metadata": {},
   "outputs": [
    {
     "name": "stderr",
     "output_type": "stream",
     "text": [
      "Asking to truncate to max_length but no maximum length is provided and the model has no predefined maximum length. Default to no truncation.\n"
     ]
    },
    {
     "name": "stdout",
     "output_type": "stream",
     "text": [
      "Cosine similarity between 'chemo_therapy_status' and 'new_adjuvant_status': 0.9758\n",
      "Cosine similarity between 'chemo_therapy_status' and 'new_adjuvant_status': 0.9760\n"
     ]
    }
   ],
   "source": [
    "def get_embedding(text):\n",
    "    \"\"\"Generate embedding for a single text using PubMedBERT.\"\"\"\n",
    "    with torch.no_grad():  # Disable gradient tracking, the model should not calculate gradients (saves resources since we're not training).\n",
    "\n",
    "        inputs = tokenizer(text, padding=True, truncation=True, return_tensors='pt')\n",
    "        outputs = model(**inputs)\n",
    "        return outputs.last_hidden_state.mean(dim=1).cpu().numpy()\n",
    "        \n",
    "term_1 = \"chemo_therapy_status\"\n",
    "term_2 = \"new_adjuvant_status\"\n",
    "\n",
    "# Get embeddings for each term (their corresponding vectors)\n",
    "embedding1 = get_embedding(term_1)\n",
    "embedding2 = get_embedding(term_2)\n",
    "\n",
    "similarity_score = cosine_similarity(embedding1, embedding2)[0][0]\n",
    "\n",
    "print(f\"Cosine similarity between '{term_1}' and '{term_2}': {similarity_score:.4f}\")\n",
    "\n",
    "term_3 = \"Pacient ID\"\n",
    "term_4 = \"Pacient Name\"\n",
    "\n",
    "embedding1 = get_embedding(term_3)\n",
    "embedding2 = get_embedding(term_4)\n",
    "\n",
    "similarity_score = cosine_similarity(embedding1, embedding2)[0][0]\n",
    "\n",
    "print(f\"Cosine similarity between '{term_3}' and '{term_4}': {similarity_score:.4f}\")\n",
    "        "
   ]
  },
  {
   "cell_type": "markdown",
   "id": "2aa9cabb-104f-4fac-bd7e-5821df475993",
   "metadata": {},
   "source": [
    "### BioBERT"
   ]
  },
  {
   "cell_type": "markdown",
   "id": "1684ca69-475c-4300-a58f-563db7f1a47c",
   "metadata": {},
   "source": [
    "BioBERT is a domain-specific version of BERT, pre-trained on large-scale biomedical corpora (such as PubMed and PMC). It excels at biomedical named entity recognition (NER), question answering, and other medical NLP tasks."
   ]
  },
  {
   "cell_type": "code",
   "execution_count": 139,
   "id": "6c6f4a8a-0a82-421e-83cb-0e8775361b8a",
   "metadata": {},
   "outputs": [],
   "source": [
    "tokenizer = AutoTokenizer.from_pretrained('dmis-lab/biobert-base-cased-v1.1')\n",
    "model = AutoModel.from_pretrained('dmis-lab/biobert-base-cased-v1.1')\n"
   ]
  },
  {
   "cell_type": "code",
   "execution_count": 141,
   "id": "f3be0d40-b613-4d38-ae93-56e933a75fd9",
   "metadata": {},
   "outputs": [
    {
     "name": "stderr",
     "output_type": "stream",
     "text": [
      "Asking to truncate to max_length but no maximum length is provided and the model has no predefined maximum length. Default to no truncation.\n"
     ]
    },
    {
     "name": "stdout",
     "output_type": "stream",
     "text": [
      "Cosine similarity between 'chemo_therapy_status' and 'new_adjuvant_status': 0.9313\n",
      "Cosine similarity between 'chemo_therapy_status' and 'new_adjuvant_status': 0.9739\n"
     ]
    }
   ],
   "source": [
    "def get_embedding(text):\n",
    "    \"\"\"Generate embedding for a single text using PubMedBERT.\"\"\"\n",
    "    with torch.no_grad():  # Disable gradient tracking, the model should not calculate gradients (saves resources since we're not training).\n",
    "\n",
    "        inputs = tokenizer(text, padding=True, truncation=True, return_tensors='pt')\n",
    "        outputs = model(**inputs)\n",
    "        return outputs.last_hidden_state.mean(dim=1).cpu().numpy()\n",
    "        \n",
    "term_1 = \"chemo_therapy_status\"\n",
    "term_2 = \"new_adjuvant_status\"\n",
    "\n",
    "# Get embeddings for each term (their corresponding vectors)\n",
    "embedding1 = get_embedding(term_1)\n",
    "embedding2 = get_embedding(term_2)\n",
    "\n",
    "similarity_score = cosine_similarity(embedding1, embedding2)[0][0]\n",
    "\n",
    "print(f\"Cosine similarity between '{term_1}' and '{term_2}': {similarity_score:.4f}\")\n",
    "\n",
    "term_3 = \"Pacient ID\"\n",
    "term_4 = \"Pacient Name\"\n",
    "\n",
    "embedding1 = get_embedding(term_3)\n",
    "embedding2 = get_embedding(term_4)\n",
    "\n",
    "similarity_score = cosine_similarity(embedding1, embedding2)[0][0]\n",
    "\n",
    "print(f\"Cosine similarity between '{term_3}' and '{term_4}': {similarity_score:.4f}\")"
   ]
  },
  {
   "cell_type": "markdown",
   "id": "f3c504a4-8710-4947-aec4-beb093496843",
   "metadata": {},
   "source": [
    "### CLINICALBERT"
   ]
  },
  {
   "cell_type": "markdown",
   "id": "2fc3dee7-fe41-41c0-b530-dce8469e3ae6",
   "metadata": {},
   "source": [
    "ClinicalBERT is fine-tuned specifically on clinical notes from patient records. It helps in processing text from clinical environments, such as electronic medical records (EMRs) or health assessments."
   ]
  },
  {
   "cell_type": "code",
   "execution_count": 143,
   "id": "705854f5-373a-4c15-a0db-2ce64dc06e75",
   "metadata": {},
   "outputs": [],
   "source": [
    "tokenizer = AutoTokenizer.from_pretrained('emilyalsentzer/Bio_ClinicalBERT')\n",
    "model = AutoModel.from_pretrained('emilyalsentzer/Bio_ClinicalBERT')\n"
   ]
  },
  {
   "cell_type": "code",
   "execution_count": 145,
   "id": "05d36880-b233-41c7-88fb-962309acf658",
   "metadata": {},
   "outputs": [
    {
     "name": "stderr",
     "output_type": "stream",
     "text": [
      "Asking to truncate to max_length but no maximum length is provided and the model has no predefined maximum length. Default to no truncation.\n"
     ]
    },
    {
     "name": "stdout",
     "output_type": "stream",
     "text": [
      "Cosine similarity between 'chemo_therapy_status' and 'new_adjuvant_status': 0.9261\n",
      "Cosine similarity between 'Pacient ID' and 'Pacient Name': 0.8963\n"
     ]
    }
   ],
   "source": [
    "def get_embedding(text):\n",
    "    \"\"\"Generate embedding for a single text using PubMedBERT.\"\"\"\n",
    "    with torch.no_grad():  # Disable gradient tracking, the model should not calculate gradients (saves resources since we're not training).\n",
    "\n",
    "        inputs = tokenizer(text, padding=True, truncation=True, return_tensors='pt')\n",
    "        outputs = model(**inputs)\n",
    "        return outputs.last_hidden_state.mean(dim=1).cpu().numpy()\n",
    "        \n",
    "term_1 = \"chemo_therapy_status\"\n",
    "term_2 = \"new_adjuvant_status\"\n",
    "\n",
    "# Get embeddings for each term (their corresponding vectors)\n",
    "embedding1 = get_embedding(term_1)\n",
    "embedding2 = get_embedding(term_2)\n",
    "\n",
    "similarity_score = cosine_similarity(embedding1, embedding2)[0][0]\n",
    "\n",
    "print(f\"Cosine similarity between '{term_1}' and '{term_2}': {similarity_score:.4f}\")\n",
    "\n",
    "term_3 = \"Pacient ID\"\n",
    "term_4 = \"Pacient Name\"\n",
    "\n",
    "embedding1 = get_embedding(term_3)\n",
    "embedding2 = get_embedding(term_4)\n",
    "\n",
    "similarity_score = cosine_similarity(embedding1, embedding2)[0][0]\n",
    "\n",
    "print(f\"Cosine similarity between '{term_3}' and '{term_4}': {similarity_score:.4f}\")"
   ]
  },
  {
   "cell_type": "markdown",
   "id": "5827a235-30a5-4fec-8305-f59729fcb627",
   "metadata": {},
   "source": [
    "### BlueBERT"
   ]
  },
  {
   "cell_type": "markdown",
   "id": "9af72a48-773a-48d9-8891-279606bfa4b3",
   "metadata": {},
   "source": [
    "BlueBERT is trained on both PubMed data and the MIMIC-III clinical dataset, making it effective for tasks that involve both biomedical research and clinical notes. It is particularly useful for tasks such as clinical text classification and similarity detection."
   ]
  },
  {
   "cell_type": "code",
   "execution_count": 153,
   "id": "20ceb972-5290-43fe-81f6-f868e569777e",
   "metadata": {},
   "outputs": [
    {
     "data": {
      "application/vnd.jupyter.widget-view+json": {
       "model_id": "772a0a17ebc34aea89a7d7744f98a8c3",
       "version_major": 2,
       "version_minor": 0
      },
      "text/plain": [
       "config.json:   0%|          | 0.00/313 [00:00<?, ?B/s]"
      ]
     },
     "metadata": {},
     "output_type": "display_data"
    },
    {
     "data": {
      "application/vnd.jupyter.widget-view+json": {
       "model_id": "8eff47b240924610b1c8ddbcc7981861",
       "version_major": 2,
       "version_minor": 0
      },
      "text/plain": [
       "vocab.txt:   0%|          | 0.00/232k [00:00<?, ?B/s]"
      ]
     },
     "metadata": {},
     "output_type": "display_data"
    },
    {
     "data": {
      "application/vnd.jupyter.widget-view+json": {
       "model_id": "e7df93f25163485aa2d67d725307628d",
       "version_major": 2,
       "version_minor": 0
      },
      "text/plain": [
       "pytorch_model.bin:   0%|          | 0.00/441M [00:00<?, ?B/s]"
      ]
     },
     "metadata": {},
     "output_type": "display_data"
    }
   ],
   "source": [
    "from transformers import AutoTokenizer, AutoModel\n",
    "\n",
    "tokenizer = AutoTokenizer.from_pretrained('bionlp/bluebert_pubmed_mimic_uncased_L-12_H-768_A-12')\n",
    "model = AutoModel.from_pretrained('bionlp/bluebert_pubmed_mimic_uncased_L-12_H-768_A-12')\n"
   ]
  },
  {
   "cell_type": "code",
   "execution_count": 155,
   "id": "4dd44c53-184f-4d68-b578-8a46801c0b8b",
   "metadata": {},
   "outputs": [
    {
     "name": "stderr",
     "output_type": "stream",
     "text": [
      "Asking to truncate to max_length but no maximum length is provided and the model has no predefined maximum length. Default to no truncation.\n"
     ]
    },
    {
     "name": "stdout",
     "output_type": "stream",
     "text": [
      "Cosine similarity between 'chemo_therapy_status' and 'new_adjuvant_status': 0.9229\n",
      "Cosine similarity between 'Pacient ID' and 'Pacient Name': 0.9428\n"
     ]
    }
   ],
   "source": [
    "def get_embedding(text):\n",
    "    \"\"\"Generate embedding for a single text using PubMedBERT.\"\"\"\n",
    "    with torch.no_grad():  # Disable gradient tracking, the model should not calculate gradients (saves resources since we're not training).\n",
    "\n",
    "        inputs = tokenizer(text, padding=True, truncation=True, return_tensors='pt')\n",
    "        outputs = model(**inputs)\n",
    "        return outputs.last_hidden_state.mean(dim=1).cpu().numpy()\n",
    "        \n",
    "term_1 = \"chemo_therapy_status\"\n",
    "term_2 = \"new_adjuvant_status\"\n",
    "\n",
    "# Get embeddings for each term (their corresponding vectors)\n",
    "embedding1 = get_embedding(term_1)\n",
    "embedding2 = get_embedding(term_2)\n",
    "\n",
    "similarity_score = cosine_similarity(embedding1, embedding2)[0][0]\n",
    "\n",
    "print(f\"Cosine similarity between '{term_1}' and '{term_2}': {similarity_score:.4f}\")\n",
    "\n",
    "term_3 = \"Pacient ID\"\n",
    "term_4 = \"Pacient Name\"\n",
    "\n",
    "embedding1 = get_embedding(term_3)\n",
    "embedding2 = get_embedding(term_4)\n",
    "\n",
    "similarity_score = cosine_similarity(embedding1, embedding2)[0][0]\n",
    "\n",
    "print(f\"Cosine similarity between '{term_3}' and '{term_4}': {similarity_score:.4f}\")"
   ]
  },
  {
   "cell_type": "markdown",
   "id": "4bdb352b-8aa2-4d5f-8786-25f1462d844b",
   "metadata": {},
   "source": [
    "### BioELECTRA \n",
    "BioELECTRA is a variation of BioBERT that uses the ELECTRA framework, which is faster and more efficient in pretraining. It's fine-tuned for biomedical text, making it ideal for large-scale biomedical NLP tasks."
   ]
  },
  {
   "cell_type": "code",
   "execution_count": 157,
   "id": "646d3e6a-6593-4428-81dc-c6b1395142d1",
   "metadata": {},
   "outputs": [
    {
     "data": {
      "application/vnd.jupyter.widget-view+json": {
       "model_id": "a94228075f9b4ab49d492e0b1da1a969",
       "version_major": 2,
       "version_minor": 0
      },
      "text/plain": [
       "config.json:   0%|          | 0.00/1.11k [00:00<?, ?B/s]"
      ]
     },
     "metadata": {},
     "output_type": "display_data"
    },
    {
     "data": {
      "application/vnd.jupyter.widget-view+json": {
       "model_id": "6047588b4d274f7f9ef2a377a73d1274",
       "version_major": 2,
       "version_minor": 0
      },
      "text/plain": [
       "vocab.txt:   0%|          | 0.00/213k [00:00<?, ?B/s]"
      ]
     },
     "metadata": {},
     "output_type": "display_data"
    },
    {
     "data": {
      "application/vnd.jupyter.widget-view+json": {
       "model_id": "85852fc24e9b43349bf399ebd20e5987",
       "version_major": 2,
       "version_minor": 0
      },
      "text/plain": [
       "pytorch_model.bin:   0%|          | 0.00/436M [00:00<?, ?B/s]"
      ]
     },
     "metadata": {},
     "output_type": "display_data"
    }
   ],
   "source": [
    "tokenizer = AutoTokenizer.from_pretrained('dmis-lab/biobert-base-cased-v1.2')\n",
    "model = AutoModel.from_pretrained('dmis-lab/biobert-base-cased-v1.2')\n",
    "\n"
   ]
  },
  {
   "cell_type": "code",
   "execution_count": 159,
   "id": "95b0183e-e088-4be9-96b8-9b3245abbc82",
   "metadata": {},
   "outputs": [
    {
     "name": "stderr",
     "output_type": "stream",
     "text": [
      "Asking to truncate to max_length but no maximum length is provided and the model has no predefined maximum length. Default to no truncation.\n"
     ]
    },
    {
     "name": "stdout",
     "output_type": "stream",
     "text": [
      "Cosine similarity between 'chemo_therapy_status' and 'new_adjuvant_status': 0.9305\n",
      "Cosine similarity between 'Pacient ID' and 'Pacient Name': 0.9164\n"
     ]
    }
   ],
   "source": [
    "def get_embedding(text):\n",
    "    \"\"\"Generate embedding for a single text using PubMedBERT.\"\"\"\n",
    "    with torch.no_grad():  # Disable gradient tracking, the model should not calculate gradients (saves resources since we're not training).\n",
    "\n",
    "        inputs = tokenizer(text, padding=True, truncation=True, return_tensors='pt')\n",
    "        outputs = model(**inputs)\n",
    "        return outputs.last_hidden_state.mean(dim=1).cpu().numpy()\n",
    "        \n",
    "term_1 = \"chemo_therapy_status\"\n",
    "term_2 = \"new_adjuvant_status\"\n",
    "\n",
    "# Get embeddings for each term (their corresponding vectors)\n",
    "embedding1 = get_embedding(term_1)\n",
    "embedding2 = get_embedding(term_2)\n",
    "\n",
    "similarity_score = cosine_similarity(embedding1, embedding2)[0][0]\n",
    "\n",
    "print(f\"Cosine similarity between '{term_1}' and '{term_2}': {similarity_score:.4f}\")\n",
    "\n",
    "term_3 = \"Pacient ID\"\n",
    "term_4 = \"Pacient Name\"\n",
    "\n",
    "embedding1 = get_embedding(term_3)\n",
    "embedding2 = get_embedding(term_4)\n",
    "\n",
    "similarity_score = cosine_similarity(embedding1, embedding2)[0][0]\n",
    "\n",
    "print(f\"Cosine similarity between '{term_3}' and '{term_4}': {similarity_score:.4f}\")"
   ]
  },
  {
   "cell_type": "markdown",
   "id": "782c72f7-bd82-4014-ba5e-1167fb46e3ca",
   "metadata": {},
   "source": [
    "### MedBERT\n",
    "MedBERT is another variation of BERT optimized for medical NLP tasks. It is trained on a variety of medical datasets and excels at understanding and processing medical terminology.\n"
   ]
  },
  {
   "cell_type": "code",
   "execution_count": 151,
   "id": "ce1eee04-74db-47cc-82a0-47b1cf394478",
   "metadata": {},
   "outputs": [
    {
     "ename": "OSError",
     "evalue": "alobha/medbert is not a local folder and is not a valid model identifier listed on 'https://huggingface.co/models'\nIf this is a private repository, make sure to pass a token having permission to this repo either by logging in with `huggingface-cli login` or by passing `token=<your_token>`",
     "output_type": "error",
     "traceback": [
      "\u001b[1;31m---------------------------------------------------------------------------\u001b[0m",
      "\u001b[1;31mHTTPError\u001b[0m                                 Traceback (most recent call last)",
      "File \u001b[1;32m~\\anaconda3\\Lib\\site-packages\\huggingface_hub\\utils\\_http.py:406\u001b[0m, in \u001b[0;36mhf_raise_for_status\u001b[1;34m(response, endpoint_name)\u001b[0m\n\u001b[0;32m    405\u001b[0m \u001b[38;5;28;01mtry\u001b[39;00m:\n\u001b[1;32m--> 406\u001b[0m     response\u001b[38;5;241m.\u001b[39mraise_for_status()\n\u001b[0;32m    407\u001b[0m \u001b[38;5;28;01mexcept\u001b[39;00m HTTPError \u001b[38;5;28;01mas\u001b[39;00m e:\n",
      "File \u001b[1;32m~\\anaconda3\\Lib\\site-packages\\requests\\models.py:1024\u001b[0m, in \u001b[0;36mResponse.raise_for_status\u001b[1;34m(self)\u001b[0m\n\u001b[0;32m   1023\u001b[0m \u001b[38;5;28;01mif\u001b[39;00m http_error_msg:\n\u001b[1;32m-> 1024\u001b[0m     \u001b[38;5;28;01mraise\u001b[39;00m HTTPError(http_error_msg, response\u001b[38;5;241m=\u001b[39m\u001b[38;5;28mself\u001b[39m)\n",
      "\u001b[1;31mHTTPError\u001b[0m: 401 Client Error: Unauthorized for url: https://huggingface.co/alobha/medbert/resolve/main/tokenizer_config.json",
      "\nThe above exception was the direct cause of the following exception:\n",
      "\u001b[1;31mRepositoryNotFoundError\u001b[0m                   Traceback (most recent call last)",
      "File \u001b[1;32m~\\anaconda3\\Lib\\site-packages\\transformers\\utils\\hub.py:403\u001b[0m, in \u001b[0;36mcached_file\u001b[1;34m(path_or_repo_id, filename, cache_dir, force_download, resume_download, proxies, token, revision, local_files_only, subfolder, repo_type, user_agent, _raise_exceptions_for_gated_repo, _raise_exceptions_for_missing_entries, _raise_exceptions_for_connection_errors, _commit_hash, **deprecated_kwargs)\u001b[0m\n\u001b[0;32m    401\u001b[0m \u001b[38;5;28;01mtry\u001b[39;00m:\n\u001b[0;32m    402\u001b[0m     \u001b[38;5;66;03m# Load from URL or cache if already cached\u001b[39;00m\n\u001b[1;32m--> 403\u001b[0m     resolved_file \u001b[38;5;241m=\u001b[39m hf_hub_download(\n\u001b[0;32m    404\u001b[0m         path_or_repo_id,\n\u001b[0;32m    405\u001b[0m         filename,\n\u001b[0;32m    406\u001b[0m         subfolder\u001b[38;5;241m=\u001b[39m\u001b[38;5;28;01mNone\u001b[39;00m \u001b[38;5;28;01mif\u001b[39;00m \u001b[38;5;28mlen\u001b[39m(subfolder) \u001b[38;5;241m==\u001b[39m \u001b[38;5;241m0\u001b[39m \u001b[38;5;28;01melse\u001b[39;00m subfolder,\n\u001b[0;32m    407\u001b[0m         repo_type\u001b[38;5;241m=\u001b[39mrepo_type,\n\u001b[0;32m    408\u001b[0m         revision\u001b[38;5;241m=\u001b[39mrevision,\n\u001b[0;32m    409\u001b[0m         cache_dir\u001b[38;5;241m=\u001b[39mcache_dir,\n\u001b[0;32m    410\u001b[0m         user_agent\u001b[38;5;241m=\u001b[39muser_agent,\n\u001b[0;32m    411\u001b[0m         force_download\u001b[38;5;241m=\u001b[39mforce_download,\n\u001b[0;32m    412\u001b[0m         proxies\u001b[38;5;241m=\u001b[39mproxies,\n\u001b[0;32m    413\u001b[0m         resume_download\u001b[38;5;241m=\u001b[39mresume_download,\n\u001b[0;32m    414\u001b[0m         token\u001b[38;5;241m=\u001b[39mtoken,\n\u001b[0;32m    415\u001b[0m         local_files_only\u001b[38;5;241m=\u001b[39mlocal_files_only,\n\u001b[0;32m    416\u001b[0m     )\n\u001b[0;32m    417\u001b[0m \u001b[38;5;28;01mexcept\u001b[39;00m GatedRepoError \u001b[38;5;28;01mas\u001b[39;00m e:\n",
      "File \u001b[1;32m~\\anaconda3\\Lib\\site-packages\\huggingface_hub\\utils\\_validators.py:114\u001b[0m, in \u001b[0;36mvalidate_hf_hub_args.<locals>._inner_fn\u001b[1;34m(*args, **kwargs)\u001b[0m\n\u001b[0;32m    112\u001b[0m     kwargs \u001b[38;5;241m=\u001b[39m smoothly_deprecate_use_auth_token(fn_name\u001b[38;5;241m=\u001b[39mfn\u001b[38;5;241m.\u001b[39m\u001b[38;5;18m__name__\u001b[39m, has_token\u001b[38;5;241m=\u001b[39mhas_token, kwargs\u001b[38;5;241m=\u001b[39mkwargs)\n\u001b[1;32m--> 114\u001b[0m \u001b[38;5;28;01mreturn\u001b[39;00m fn(\u001b[38;5;241m*\u001b[39margs, \u001b[38;5;241m*\u001b[39m\u001b[38;5;241m*\u001b[39mkwargs)\n",
      "File \u001b[1;32m~\\anaconda3\\Lib\\site-packages\\huggingface_hub\\file_download.py:862\u001b[0m, in \u001b[0;36mhf_hub_download\u001b[1;34m(repo_id, filename, subfolder, repo_type, revision, library_name, library_version, cache_dir, local_dir, user_agent, force_download, proxies, etag_timeout, token, local_files_only, headers, endpoint, resume_download, force_filename, local_dir_use_symlinks)\u001b[0m\n\u001b[0;32m    861\u001b[0m \u001b[38;5;28;01melse\u001b[39;00m:\n\u001b[1;32m--> 862\u001b[0m     \u001b[38;5;28;01mreturn\u001b[39;00m _hf_hub_download_to_cache_dir(\n\u001b[0;32m    863\u001b[0m         \u001b[38;5;66;03m# Destination\u001b[39;00m\n\u001b[0;32m    864\u001b[0m         cache_dir\u001b[38;5;241m=\u001b[39mcache_dir,\n\u001b[0;32m    865\u001b[0m         \u001b[38;5;66;03m# File info\u001b[39;00m\n\u001b[0;32m    866\u001b[0m         repo_id\u001b[38;5;241m=\u001b[39mrepo_id,\n\u001b[0;32m    867\u001b[0m         filename\u001b[38;5;241m=\u001b[39mfilename,\n\u001b[0;32m    868\u001b[0m         repo_type\u001b[38;5;241m=\u001b[39mrepo_type,\n\u001b[0;32m    869\u001b[0m         revision\u001b[38;5;241m=\u001b[39mrevision,\n\u001b[0;32m    870\u001b[0m         \u001b[38;5;66;03m# HTTP info\u001b[39;00m\n\u001b[0;32m    871\u001b[0m         endpoint\u001b[38;5;241m=\u001b[39mendpoint,\n\u001b[0;32m    872\u001b[0m         etag_timeout\u001b[38;5;241m=\u001b[39metag_timeout,\n\u001b[0;32m    873\u001b[0m         headers\u001b[38;5;241m=\u001b[39mheaders,\n\u001b[0;32m    874\u001b[0m         proxies\u001b[38;5;241m=\u001b[39mproxies,\n\u001b[0;32m    875\u001b[0m         token\u001b[38;5;241m=\u001b[39mtoken,\n\u001b[0;32m    876\u001b[0m         \u001b[38;5;66;03m# Additional options\u001b[39;00m\n\u001b[0;32m    877\u001b[0m         local_files_only\u001b[38;5;241m=\u001b[39mlocal_files_only,\n\u001b[0;32m    878\u001b[0m         force_download\u001b[38;5;241m=\u001b[39mforce_download,\n\u001b[0;32m    879\u001b[0m     )\n",
      "File \u001b[1;32m~\\anaconda3\\Lib\\site-packages\\huggingface_hub\\file_download.py:969\u001b[0m, in \u001b[0;36m_hf_hub_download_to_cache_dir\u001b[1;34m(cache_dir, repo_id, filename, repo_type, revision, endpoint, etag_timeout, headers, proxies, token, local_files_only, force_download)\u001b[0m\n\u001b[0;32m    968\u001b[0m     \u001b[38;5;66;03m# Otherwise, raise appropriate error\u001b[39;00m\n\u001b[1;32m--> 969\u001b[0m     _raise_on_head_call_error(head_call_error, force_download, local_files_only)\n\u001b[0;32m    971\u001b[0m \u001b[38;5;66;03m# From now on, etag, commit_hash, url and size are not None.\u001b[39;00m\n",
      "File \u001b[1;32m~\\anaconda3\\Lib\\site-packages\\huggingface_hub\\file_download.py:1484\u001b[0m, in \u001b[0;36m_raise_on_head_call_error\u001b[1;34m(head_call_error, force_download, local_files_only)\u001b[0m\n\u001b[0;32m   1482\u001b[0m \u001b[38;5;28;01melif\u001b[39;00m \u001b[38;5;28misinstance\u001b[39m(head_call_error, RepositoryNotFoundError) \u001b[38;5;129;01mor\u001b[39;00m \u001b[38;5;28misinstance\u001b[39m(head_call_error, GatedRepoError):\n\u001b[0;32m   1483\u001b[0m     \u001b[38;5;66;03m# Repo not found or gated => let's raise the actual error\u001b[39;00m\n\u001b[1;32m-> 1484\u001b[0m     \u001b[38;5;28;01mraise\u001b[39;00m head_call_error\n\u001b[0;32m   1485\u001b[0m \u001b[38;5;28;01melse\u001b[39;00m:\n\u001b[0;32m   1486\u001b[0m     \u001b[38;5;66;03m# Otherwise: most likely a connection issue or Hub downtime => let's warn the user\u001b[39;00m\n",
      "File \u001b[1;32m~\\anaconda3\\Lib\\site-packages\\huggingface_hub\\file_download.py:1376\u001b[0m, in \u001b[0;36m_get_metadata_or_catch_error\u001b[1;34m(repo_id, filename, repo_type, revision, endpoint, proxies, etag_timeout, headers, token, local_files_only, relative_filename, storage_folder)\u001b[0m\n\u001b[0;32m   1375\u001b[0m \u001b[38;5;28;01mtry\u001b[39;00m:\n\u001b[1;32m-> 1376\u001b[0m     metadata \u001b[38;5;241m=\u001b[39m get_hf_file_metadata(\n\u001b[0;32m   1377\u001b[0m         url\u001b[38;5;241m=\u001b[39murl, proxies\u001b[38;5;241m=\u001b[39mproxies, timeout\u001b[38;5;241m=\u001b[39metag_timeout, headers\u001b[38;5;241m=\u001b[39mheaders, token\u001b[38;5;241m=\u001b[39mtoken\n\u001b[0;32m   1378\u001b[0m     )\n\u001b[0;32m   1379\u001b[0m \u001b[38;5;28;01mexcept\u001b[39;00m EntryNotFoundError \u001b[38;5;28;01mas\u001b[39;00m http_error:\n",
      "File \u001b[1;32m~\\anaconda3\\Lib\\site-packages\\huggingface_hub\\utils\\_validators.py:114\u001b[0m, in \u001b[0;36mvalidate_hf_hub_args.<locals>._inner_fn\u001b[1;34m(*args, **kwargs)\u001b[0m\n\u001b[0;32m    112\u001b[0m     kwargs \u001b[38;5;241m=\u001b[39m smoothly_deprecate_use_auth_token(fn_name\u001b[38;5;241m=\u001b[39mfn\u001b[38;5;241m.\u001b[39m\u001b[38;5;18m__name__\u001b[39m, has_token\u001b[38;5;241m=\u001b[39mhas_token, kwargs\u001b[38;5;241m=\u001b[39mkwargs)\n\u001b[1;32m--> 114\u001b[0m \u001b[38;5;28;01mreturn\u001b[39;00m fn(\u001b[38;5;241m*\u001b[39margs, \u001b[38;5;241m*\u001b[39m\u001b[38;5;241m*\u001b[39mkwargs)\n",
      "File \u001b[1;32m~\\anaconda3\\Lib\\site-packages\\huggingface_hub\\file_download.py:1296\u001b[0m, in \u001b[0;36mget_hf_file_metadata\u001b[1;34m(url, token, proxies, timeout, library_name, library_version, user_agent, headers)\u001b[0m\n\u001b[0;32m   1295\u001b[0m \u001b[38;5;66;03m# Retrieve metadata\u001b[39;00m\n\u001b[1;32m-> 1296\u001b[0m r \u001b[38;5;241m=\u001b[39m _request_wrapper(\n\u001b[0;32m   1297\u001b[0m     method\u001b[38;5;241m=\u001b[39m\u001b[38;5;124m\"\u001b[39m\u001b[38;5;124mHEAD\u001b[39m\u001b[38;5;124m\"\u001b[39m,\n\u001b[0;32m   1298\u001b[0m     url\u001b[38;5;241m=\u001b[39murl,\n\u001b[0;32m   1299\u001b[0m     headers\u001b[38;5;241m=\u001b[39mheaders,\n\u001b[0;32m   1300\u001b[0m     allow_redirects\u001b[38;5;241m=\u001b[39m\u001b[38;5;28;01mFalse\u001b[39;00m,\n\u001b[0;32m   1301\u001b[0m     follow_relative_redirects\u001b[38;5;241m=\u001b[39m\u001b[38;5;28;01mTrue\u001b[39;00m,\n\u001b[0;32m   1302\u001b[0m     proxies\u001b[38;5;241m=\u001b[39mproxies,\n\u001b[0;32m   1303\u001b[0m     timeout\u001b[38;5;241m=\u001b[39mtimeout,\n\u001b[0;32m   1304\u001b[0m )\n\u001b[0;32m   1305\u001b[0m hf_raise_for_status(r)\n",
      "File \u001b[1;32m~\\anaconda3\\Lib\\site-packages\\huggingface_hub\\file_download.py:277\u001b[0m, in \u001b[0;36m_request_wrapper\u001b[1;34m(method, url, follow_relative_redirects, **params)\u001b[0m\n\u001b[0;32m    276\u001b[0m \u001b[38;5;28;01mif\u001b[39;00m follow_relative_redirects:\n\u001b[1;32m--> 277\u001b[0m     response \u001b[38;5;241m=\u001b[39m _request_wrapper(\n\u001b[0;32m    278\u001b[0m         method\u001b[38;5;241m=\u001b[39mmethod,\n\u001b[0;32m    279\u001b[0m         url\u001b[38;5;241m=\u001b[39murl,\n\u001b[0;32m    280\u001b[0m         follow_relative_redirects\u001b[38;5;241m=\u001b[39m\u001b[38;5;28;01mFalse\u001b[39;00m,\n\u001b[0;32m    281\u001b[0m         \u001b[38;5;241m*\u001b[39m\u001b[38;5;241m*\u001b[39mparams,\n\u001b[0;32m    282\u001b[0m     )\n\u001b[0;32m    284\u001b[0m     \u001b[38;5;66;03m# If redirection, we redirect only relative paths.\u001b[39;00m\n\u001b[0;32m    285\u001b[0m     \u001b[38;5;66;03m# This is useful in case of a renamed repository.\u001b[39;00m\n",
      "File \u001b[1;32m~\\anaconda3\\Lib\\site-packages\\huggingface_hub\\file_download.py:301\u001b[0m, in \u001b[0;36m_request_wrapper\u001b[1;34m(method, url, follow_relative_redirects, **params)\u001b[0m\n\u001b[0;32m    300\u001b[0m response \u001b[38;5;241m=\u001b[39m get_session()\u001b[38;5;241m.\u001b[39mrequest(method\u001b[38;5;241m=\u001b[39mmethod, url\u001b[38;5;241m=\u001b[39murl, \u001b[38;5;241m*\u001b[39m\u001b[38;5;241m*\u001b[39mparams)\n\u001b[1;32m--> 301\u001b[0m hf_raise_for_status(response)\n\u001b[0;32m    302\u001b[0m \u001b[38;5;28;01mreturn\u001b[39;00m response\n",
      "File \u001b[1;32m~\\anaconda3\\Lib\\site-packages\\huggingface_hub\\utils\\_http.py:454\u001b[0m, in \u001b[0;36mhf_raise_for_status\u001b[1;34m(response, endpoint_name)\u001b[0m\n\u001b[0;32m    446\u001b[0m     message \u001b[38;5;241m=\u001b[39m (\n\u001b[0;32m    447\u001b[0m         \u001b[38;5;124mf\u001b[39m\u001b[38;5;124m\"\u001b[39m\u001b[38;5;132;01m{\u001b[39;00mresponse\u001b[38;5;241m.\u001b[39mstatus_code\u001b[38;5;132;01m}\u001b[39;00m\u001b[38;5;124m Client Error.\u001b[39m\u001b[38;5;124m\"\u001b[39m\n\u001b[0;32m    448\u001b[0m         \u001b[38;5;241m+\u001b[39m \u001b[38;5;124m\"\u001b[39m\u001b[38;5;130;01m\\n\u001b[39;00m\u001b[38;5;130;01m\\n\u001b[39;00m\u001b[38;5;124m\"\u001b[39m\n\u001b[1;32m   (...)\u001b[0m\n\u001b[0;32m    452\u001b[0m         \u001b[38;5;124m\"\u001b[39m\u001b[38;5;124m make sure you are authenticated.\u001b[39m\u001b[38;5;124m\"\u001b[39m\n\u001b[0;32m    453\u001b[0m     )\n\u001b[1;32m--> 454\u001b[0m     \u001b[38;5;28;01mraise\u001b[39;00m _format(RepositoryNotFoundError, message, response) \u001b[38;5;28;01mfrom\u001b[39;00m \u001b[38;5;21;01me\u001b[39;00m\n\u001b[0;32m    456\u001b[0m \u001b[38;5;28;01melif\u001b[39;00m response\u001b[38;5;241m.\u001b[39mstatus_code \u001b[38;5;241m==\u001b[39m \u001b[38;5;241m400\u001b[39m:\n",
      "\u001b[1;31mRepositoryNotFoundError\u001b[0m: 401 Client Error. (Request ID: Root=1-674d3321-01517085788c4bf020316b5e;fca111a3-3b8d-41d5-904d-87ba61f4ff25)\n\nRepository Not Found for url: https://huggingface.co/alobha/medbert/resolve/main/tokenizer_config.json.\nPlease make sure you specified the correct `repo_id` and `repo_type`.\nIf you are trying to access a private or gated repo, make sure you are authenticated.\nInvalid username or password.",
      "\nThe above exception was the direct cause of the following exception:\n",
      "\u001b[1;31mOSError\u001b[0m                                   Traceback (most recent call last)",
      "Cell \u001b[1;32mIn[151], line 1\u001b[0m\n\u001b[1;32m----> 1\u001b[0m tokenizer \u001b[38;5;241m=\u001b[39m AutoTokenizer\u001b[38;5;241m.\u001b[39mfrom_pretrained(\u001b[38;5;124m'\u001b[39m\u001b[38;5;124malobha/medbert\u001b[39m\u001b[38;5;124m'\u001b[39m)\n\u001b[0;32m      2\u001b[0m model \u001b[38;5;241m=\u001b[39m AutoModel\u001b[38;5;241m.\u001b[39mfrom_pretrained(\u001b[38;5;124m'\u001b[39m\u001b[38;5;124malobha/medbert\u001b[39m\u001b[38;5;124m'\u001b[39m)\n",
      "File \u001b[1;32m~\\anaconda3\\Lib\\site-packages\\transformers\\models\\auto\\tokenization_auto.py:857\u001b[0m, in \u001b[0;36mAutoTokenizer.from_pretrained\u001b[1;34m(cls, pretrained_model_name_or_path, *inputs, **kwargs)\u001b[0m\n\u001b[0;32m    854\u001b[0m     \u001b[38;5;28;01mreturn\u001b[39;00m tokenizer_class\u001b[38;5;241m.\u001b[39mfrom_pretrained(pretrained_model_name_or_path, \u001b[38;5;241m*\u001b[39minputs, \u001b[38;5;241m*\u001b[39m\u001b[38;5;241m*\u001b[39mkwargs)\n\u001b[0;32m    856\u001b[0m \u001b[38;5;66;03m# Next, let's try to use the tokenizer_config file to get the tokenizer class.\u001b[39;00m\n\u001b[1;32m--> 857\u001b[0m tokenizer_config \u001b[38;5;241m=\u001b[39m get_tokenizer_config(pretrained_model_name_or_path, \u001b[38;5;241m*\u001b[39m\u001b[38;5;241m*\u001b[39mkwargs)\n\u001b[0;32m    858\u001b[0m \u001b[38;5;28;01mif\u001b[39;00m \u001b[38;5;124m\"\u001b[39m\u001b[38;5;124m_commit_hash\u001b[39m\u001b[38;5;124m\"\u001b[39m \u001b[38;5;129;01min\u001b[39;00m tokenizer_config:\n\u001b[0;32m    859\u001b[0m     kwargs[\u001b[38;5;124m\"\u001b[39m\u001b[38;5;124m_commit_hash\u001b[39m\u001b[38;5;124m\"\u001b[39m] \u001b[38;5;241m=\u001b[39m tokenizer_config[\u001b[38;5;124m\"\u001b[39m\u001b[38;5;124m_commit_hash\u001b[39m\u001b[38;5;124m\"\u001b[39m]\n",
      "File \u001b[1;32m~\\anaconda3\\Lib\\site-packages\\transformers\\models\\auto\\tokenization_auto.py:689\u001b[0m, in \u001b[0;36mget_tokenizer_config\u001b[1;34m(pretrained_model_name_or_path, cache_dir, force_download, resume_download, proxies, token, revision, local_files_only, subfolder, **kwargs)\u001b[0m\n\u001b[0;32m    686\u001b[0m     token \u001b[38;5;241m=\u001b[39m use_auth_token\n\u001b[0;32m    688\u001b[0m commit_hash \u001b[38;5;241m=\u001b[39m kwargs\u001b[38;5;241m.\u001b[39mget(\u001b[38;5;124m\"\u001b[39m\u001b[38;5;124m_commit_hash\u001b[39m\u001b[38;5;124m\"\u001b[39m, \u001b[38;5;28;01mNone\u001b[39;00m)\n\u001b[1;32m--> 689\u001b[0m resolved_config_file \u001b[38;5;241m=\u001b[39m cached_file(\n\u001b[0;32m    690\u001b[0m     pretrained_model_name_or_path,\n\u001b[0;32m    691\u001b[0m     TOKENIZER_CONFIG_FILE,\n\u001b[0;32m    692\u001b[0m     cache_dir\u001b[38;5;241m=\u001b[39mcache_dir,\n\u001b[0;32m    693\u001b[0m     force_download\u001b[38;5;241m=\u001b[39mforce_download,\n\u001b[0;32m    694\u001b[0m     resume_download\u001b[38;5;241m=\u001b[39mresume_download,\n\u001b[0;32m    695\u001b[0m     proxies\u001b[38;5;241m=\u001b[39mproxies,\n\u001b[0;32m    696\u001b[0m     token\u001b[38;5;241m=\u001b[39mtoken,\n\u001b[0;32m    697\u001b[0m     revision\u001b[38;5;241m=\u001b[39mrevision,\n\u001b[0;32m    698\u001b[0m     local_files_only\u001b[38;5;241m=\u001b[39mlocal_files_only,\n\u001b[0;32m    699\u001b[0m     subfolder\u001b[38;5;241m=\u001b[39msubfolder,\n\u001b[0;32m    700\u001b[0m     _raise_exceptions_for_gated_repo\u001b[38;5;241m=\u001b[39m\u001b[38;5;28;01mFalse\u001b[39;00m,\n\u001b[0;32m    701\u001b[0m     _raise_exceptions_for_missing_entries\u001b[38;5;241m=\u001b[39m\u001b[38;5;28;01mFalse\u001b[39;00m,\n\u001b[0;32m    702\u001b[0m     _raise_exceptions_for_connection_errors\u001b[38;5;241m=\u001b[39m\u001b[38;5;28;01mFalse\u001b[39;00m,\n\u001b[0;32m    703\u001b[0m     _commit_hash\u001b[38;5;241m=\u001b[39mcommit_hash,\n\u001b[0;32m    704\u001b[0m )\n\u001b[0;32m    705\u001b[0m \u001b[38;5;28;01mif\u001b[39;00m resolved_config_file \u001b[38;5;129;01mis\u001b[39;00m \u001b[38;5;28;01mNone\u001b[39;00m:\n\u001b[0;32m    706\u001b[0m     logger\u001b[38;5;241m.\u001b[39minfo(\u001b[38;5;124m\"\u001b[39m\u001b[38;5;124mCould not locate the tokenizer configuration file, will try to use the model config instead.\u001b[39m\u001b[38;5;124m\"\u001b[39m)\n",
      "File \u001b[1;32m~\\anaconda3\\Lib\\site-packages\\transformers\\utils\\hub.py:426\u001b[0m, in \u001b[0;36mcached_file\u001b[1;34m(path_or_repo_id, filename, cache_dir, force_download, resume_download, proxies, token, revision, local_files_only, subfolder, repo_type, user_agent, _raise_exceptions_for_gated_repo, _raise_exceptions_for_missing_entries, _raise_exceptions_for_connection_errors, _commit_hash, **deprecated_kwargs)\u001b[0m\n\u001b[0;32m    421\u001b[0m     \u001b[38;5;28;01mraise\u001b[39;00m \u001b[38;5;167;01mEnvironmentError\u001b[39;00m(\n\u001b[0;32m    422\u001b[0m         \u001b[38;5;124m\"\u001b[39m\u001b[38;5;124mYou are trying to access a gated repo.\u001b[39m\u001b[38;5;130;01m\\n\u001b[39;00m\u001b[38;5;124mMake sure to have access to it at \u001b[39m\u001b[38;5;124m\"\u001b[39m\n\u001b[0;32m    423\u001b[0m         \u001b[38;5;124mf\u001b[39m\u001b[38;5;124m\"\u001b[39m\u001b[38;5;124mhttps://huggingface.co/\u001b[39m\u001b[38;5;132;01m{\u001b[39;00mpath_or_repo_id\u001b[38;5;132;01m}\u001b[39;00m\u001b[38;5;124m.\u001b[39m\u001b[38;5;130;01m\\n\u001b[39;00m\u001b[38;5;132;01m{\u001b[39;00m\u001b[38;5;28mstr\u001b[39m(e)\u001b[38;5;132;01m}\u001b[39;00m\u001b[38;5;124m\"\u001b[39m\n\u001b[0;32m    424\u001b[0m     ) \u001b[38;5;28;01mfrom\u001b[39;00m \u001b[38;5;21;01me\u001b[39;00m\n\u001b[0;32m    425\u001b[0m \u001b[38;5;28;01mexcept\u001b[39;00m RepositoryNotFoundError \u001b[38;5;28;01mas\u001b[39;00m e:\n\u001b[1;32m--> 426\u001b[0m     \u001b[38;5;28;01mraise\u001b[39;00m \u001b[38;5;167;01mEnvironmentError\u001b[39;00m(\n\u001b[0;32m    427\u001b[0m         \u001b[38;5;124mf\u001b[39m\u001b[38;5;124m\"\u001b[39m\u001b[38;5;132;01m{\u001b[39;00mpath_or_repo_id\u001b[38;5;132;01m}\u001b[39;00m\u001b[38;5;124m is not a local folder and is not a valid model identifier \u001b[39m\u001b[38;5;124m\"\u001b[39m\n\u001b[0;32m    428\u001b[0m         \u001b[38;5;124m\"\u001b[39m\u001b[38;5;124mlisted on \u001b[39m\u001b[38;5;124m'\u001b[39m\u001b[38;5;124mhttps://huggingface.co/models\u001b[39m\u001b[38;5;124m'\u001b[39m\u001b[38;5;130;01m\\n\u001b[39;00m\u001b[38;5;124mIf this is a private repository, make sure to pass a token \u001b[39m\u001b[38;5;124m\"\u001b[39m\n\u001b[0;32m    429\u001b[0m         \u001b[38;5;124m\"\u001b[39m\u001b[38;5;124mhaving permission to this repo either by logging in with `huggingface-cli login` or by passing \u001b[39m\u001b[38;5;124m\"\u001b[39m\n\u001b[0;32m    430\u001b[0m         \u001b[38;5;124m\"\u001b[39m\u001b[38;5;124m`token=<your_token>`\u001b[39m\u001b[38;5;124m\"\u001b[39m\n\u001b[0;32m    431\u001b[0m     ) \u001b[38;5;28;01mfrom\u001b[39;00m \u001b[38;5;21;01me\u001b[39;00m\n\u001b[0;32m    432\u001b[0m \u001b[38;5;28;01mexcept\u001b[39;00m RevisionNotFoundError \u001b[38;5;28;01mas\u001b[39;00m e:\n\u001b[0;32m    433\u001b[0m     \u001b[38;5;28;01mraise\u001b[39;00m \u001b[38;5;167;01mEnvironmentError\u001b[39;00m(\n\u001b[0;32m    434\u001b[0m         \u001b[38;5;124mf\u001b[39m\u001b[38;5;124m\"\u001b[39m\u001b[38;5;132;01m{\u001b[39;00mrevision\u001b[38;5;132;01m}\u001b[39;00m\u001b[38;5;124m is not a valid git identifier (branch name, tag name or commit id) that exists \u001b[39m\u001b[38;5;124m\"\u001b[39m\n\u001b[0;32m    435\u001b[0m         \u001b[38;5;124m\"\u001b[39m\u001b[38;5;124mfor this model name. Check the model page at \u001b[39m\u001b[38;5;124m\"\u001b[39m\n\u001b[0;32m    436\u001b[0m         \u001b[38;5;124mf\u001b[39m\u001b[38;5;124m\"\u001b[39m\u001b[38;5;124m'\u001b[39m\u001b[38;5;124mhttps://huggingface.co/\u001b[39m\u001b[38;5;132;01m{\u001b[39;00mpath_or_repo_id\u001b[38;5;132;01m}\u001b[39;00m\u001b[38;5;124m'\u001b[39m\u001b[38;5;124m for available revisions.\u001b[39m\u001b[38;5;124m\"\u001b[39m\n\u001b[0;32m    437\u001b[0m     ) \u001b[38;5;28;01mfrom\u001b[39;00m \u001b[38;5;21;01me\u001b[39;00m\n",
      "\u001b[1;31mOSError\u001b[0m: alobha/medbert is not a local folder and is not a valid model identifier listed on 'https://huggingface.co/models'\nIf this is a private repository, make sure to pass a token having permission to this repo either by logging in with `huggingface-cli login` or by passing `token=<your_token>`"
     ]
    }
   ],
   "source": [
    "tokenizer = AutoTokenizer.from_pretrained('alobha/medbert')\n",
    "model = AutoModel.from_pretrained('alobha/medbert')\n",
    "\n"
   ]
  },
  {
   "cell_type": "code",
   "execution_count": null,
   "id": "e3a41827-c8e7-4ccc-b351-52f8c7463d12",
   "metadata": {},
   "outputs": [],
   "source": []
  }
 ],
 "metadata": {
  "kernelspec": {
   "display_name": "Python 3 (ipykernel)",
   "language": "python",
   "name": "python3"
  },
  "language_info": {
   "codemirror_mode": {
    "name": "ipython",
    "version": 3
   },
   "file_extension": ".py",
   "mimetype": "text/x-python",
   "name": "python",
   "nbconvert_exporter": "python",
   "pygments_lexer": "ipython3",
   "version": "3.12.7"
  }
 },
 "nbformat": 4,
 "nbformat_minor": 5
}
